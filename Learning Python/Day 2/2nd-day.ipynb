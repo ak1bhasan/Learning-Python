{
 "cells": [
  {
   "cell_type": "code",
   "execution_count": 2,
   "metadata": {
    "execution": {
     "iopub.execute_input": "2025-09-12T10:51:46.127904Z",
     "iopub.status.busy": "2025-09-12T10:51:46.127545Z",
     "iopub.status.idle": "2025-09-12T10:51:46.134263Z",
     "shell.execute_reply": "2025-09-12T10:51:46.132921Z",
     "shell.execute_reply.started": "2025-09-12T10:51:46.127883Z"
    },
    "trusted": true
   },
   "outputs": [
    {
     "name": "stdout",
     "output_type": "stream",
     "text": [
      "H\n",
      "o\n",
      "l\n",
      "123345\n",
      "468\n",
      "123456789\n",
      "3.14159\n",
      "True\n",
      "False\n"
     ]
    }
   ],
   "source": [
    "# Subscripting\n",
    "print(\"Hello\"[0])\n",
    "print(\"Hello\"[-1])\n",
    "print(\"Hello\"[-2])\n",
    "\n",
    "# String\n",
    "print(\"123\" + \"345\") # Concatenation\n",
    "\n",
    "print(123 + 345)\n",
    "\n",
    "# Large Integers\n",
    "print(123_456_789)\n",
    "\n",
    "# Float = Floating Point Number\n",
    "print(3.14159)\n",
    "\n",
    "# Boolean\n",
    "print(True)\n",
    "print(False)"
   ]
  },
  {
   "cell_type": "code",
   "execution_count": 3,
   "metadata": {
    "execution": {
     "iopub.execute_input": "2025-09-12T10:51:46.136024Z",
     "iopub.status.busy": "2025-09-12T10:51:46.135728Z",
     "iopub.status.idle": "2025-09-12T10:51:46.156281Z",
     "shell.execute_reply": "2025-09-12T10:51:46.155600Z",
     "shell.execute_reply.started": "2025-09-12T10:51:46.135995Z"
    },
    "trusted": true
   },
   "outputs": [
    {
     "name": "stdout",
     "output_type": "stream",
     "text": [
      "<class 'str'>\n",
      "<class 'int'>\n",
      "<class 'float'>\n",
      "<class 'bool'>\n"
     ]
    }
   ],
   "source": [
    "print(type(\"Hello\"))\n",
    "print(type(123))\n",
    "print(type(3.1416))\n",
    "print(type(True))"
   ]
  },
  {
   "cell_type": "code",
   "execution_count": 4,
   "metadata": {
    "execution": {
     "iopub.execute_input": "2025-09-12T10:51:46.157329Z",
     "iopub.status.busy": "2025-09-12T10:51:46.157131Z",
     "iopub.status.idle": "2025-09-12T10:51:46.177694Z",
     "shell.execute_reply": "2025-09-12T10:51:46.176652Z",
     "shell.execute_reply.started": "2025-09-12T10:51:46.157312Z"
    },
    "trusted": true
   },
   "outputs": [
    {
     "name": "stdout",
     "output_type": "stream",
     "text": [
      "123456\n",
      "579\n"
     ]
    }
   ],
   "source": [
    "print(\"123\" + \"456\")\n",
    "print(int(\"123\") + int(\"456\"))"
   ]
  },
  {
   "cell_type": "code",
   "execution_count": 2,
   "metadata": {
    "execution": {
     "iopub.execute_input": "2025-09-12T10:51:46.180001Z",
     "iopub.status.busy": "2025-09-12T10:51:46.179695Z",
     "iopub.status.idle": "2025-09-12T10:51:55.017207Z",
     "shell.execute_reply": "2025-09-12T10:51:55.016049Z",
     "shell.execute_reply.started": "2025-09-12T10:51:46.179978Z"
    },
    "trusted": true
   },
   "outputs": [
    {
     "name": "stdout",
     "output_type": "stream",
     "text": [
      "<class 'str'>\n",
      "<class 'int'>\n",
      "Number of letters in your name: 4\n"
     ]
    }
   ],
   "source": [
    "name = input(\"Enter your name: \")\n",
    "length = len(name)\n",
    "\n",
    "print(type(\"Number of letters in your name: \")) # str\n",
    "print(type(length)) # int\n",
    "\n",
    "print(\"Number of letters in your name: \" + str(length))\n"
   ]
  },
  {
   "cell_type": "code",
   "execution_count": null,
   "metadata": {
    "execution": {
     "iopub.execute_input": "2025-09-12T10:51:55.018449Z",
     "iopub.status.busy": "2025-09-12T10:51:55.018127Z",
     "iopub.status.idle": "2025-09-12T10:51:55.023885Z",
     "shell.execute_reply": "2025-09-12T10:51:55.023102Z",
     "shell.execute_reply.started": "2025-09-12T10:51:55.018425Z"
    },
    "trusted": true
   },
   "outputs": [
    {
     "name": "stdout",
     "output_type": "stream",
     "text": [
      "My age: 21\n",
      "579\n",
      "4\n",
      "6\n",
      "1.6666666666666667\n",
      "1\n",
      "8\n",
      "7.0\n",
      "3.0\n"
     ]
    }
   ],
   "source": [
    "print(\"My age: \" + str(21))\n",
    "print(123 + 456)\n",
    "print(7 - 3)\n",
    "print(3 * 2)\n",
    "print(5 / 3)\n",
    "print(5 // 3)\n",
    "print( 2 ** 3 )\n",
    "\n",
    "# PEMDAS = Parentheses → Exponents → Multiplication → Division → Addition → Subtraction\n",
    "# PEMDASLR\n",
    "# ()\n",
    "# **\n",
    "# * OR /\n",
    "# + OR -\n",
    "\n",
    "print(3 * 3 + 3 / 3 - 3)\n",
    "print(3 * ( 3 + 3 ) / 3 - 3)\n",
    "\n"
   ]
  },
  {
   "cell_type": "code",
   "execution_count": 7,
   "metadata": {
    "execution": {
     "iopub.execute_input": "2025-09-12T10:51:55.025479Z",
     "iopub.status.busy": "2025-09-12T10:51:55.024740Z",
     "iopub.status.idle": "2025-09-12T10:51:55.045205Z",
     "shell.execute_reply": "2025-09-12T10:51:55.044269Z",
     "shell.execute_reply.started": "2025-09-12T10:51:55.025447Z"
    },
    "trusted": true
   },
   "outputs": [
    {
     "name": "stdout",
     "output_type": "stream",
     "text": [
      "30.85399449035813\n",
      "30\n",
      "31\n",
      "30.85\n"
     ]
    }
   ],
   "source": [
    "bmi = 84 / 1.65 ** 2 \n",
    "print(bmi)\n",
    "\n",
    "print(int(bmi))\n",
    "\n",
    "print(round(bmi))\n",
    "print(round(bmi, 2))"
   ]
  },
  {
   "cell_type": "code",
   "execution_count": 8,
   "metadata": {
    "execution": {
     "iopub.execute_input": "2025-09-12T10:51:55.046769Z",
     "iopub.status.busy": "2025-09-12T10:51:55.046448Z",
     "iopub.status.idle": "2025-09-12T10:51:55.064825Z",
     "shell.execute_reply": "2025-09-12T10:51:55.063953Z",
     "shell.execute_reply.started": "2025-09-12T10:51:55.046740Z"
    },
    "trusted": true
   },
   "outputs": [
    {
     "name": "stdout",
     "output_type": "stream",
     "text": [
      "1\n",
      "Your score is = 0, your height is 1.0. You are winning True\n"
     ]
    }
   ],
   "source": [
    "score = 0\n",
    "\n",
    "# User scores a point\n",
    "score += 1\n",
    "print(score)\n",
    "\n",
    "# f-strings\n",
    "# print(\"Your score is \" + str(score))\n",
    "\n",
    "\n",
    "score = 0\n",
    "height = 1.0\n",
    "is_winning = True\n",
    "\n",
    "print(f\"Your score is = {score}, your height is {height}. You are winning {is_winning}\")\n"
   ]
  },
  {
   "cell_type": "code",
   "execution_count": 9,
   "metadata": {
    "execution": {
     "iopub.execute_input": "2025-09-12T10:51:55.065927Z",
     "iopub.status.busy": "2025-09-12T10:51:55.065712Z",
     "iopub.status.idle": "2025-09-12T10:52:09.907561Z",
     "shell.execute_reply": "2025-09-12T10:52:09.906621Z",
     "shell.execute_reply.started": "2025-09-12T10:51:55.065910Z"
    },
    "trusted": true
   },
   "outputs": [
    {
     "name": "stdout",
     "output_type": "stream",
     "text": [
      "Welcome to the tip calculator!\n"
     ]
    },
    {
     "name": "stdout",
     "output_type": "stream",
     "text": [
      "What was the total bill? $ 300\n",
      "How much tip would you like to give? 10, 12, or 15?  12\n",
      "How many people to split the bill? 5\n"
     ]
    },
    {
     "name": "stdout",
     "output_type": "stream",
     "text": [
      "Each person should pay: $67.2\n"
     ]
    }
   ],
   "source": [
    "# Tip Calculator\n",
    "print(\"Welcome to the tip calculator!\")\n",
    "bill = float(input(\"What was the total bill? $\"))\n",
    "tip = int(input(\"How much tip would you like to give? 10, 12, or 15? \"))\n",
    "people = int(input(\"How many people to split the bill?\"))\n",
    "\n",
    "x = ((tip / 100) * bill) + bill\n",
    "print(f\"Each person should pay: ${round((x / people), 2)}\")\n",
    "\n"
   ]
  }
 ],
 "metadata": {
  "kaggle": {
   "accelerator": "none",
   "dataSources": [],
   "dockerImageVersionId": 31089,
   "isGpuEnabled": false,
   "isInternetEnabled": false,
   "language": "python",
   "sourceType": "notebook"
  },
  "kernelspec": {
   "display_name": "Python 3",
   "language": "python",
   "name": "python3"
  },
  "language_info": {
   "codemirror_mode": {
    "name": "ipython",
    "version": 3
   },
   "file_extension": ".py",
   "mimetype": "text/x-python",
   "name": "python",
   "nbconvert_exporter": "python",
   "pygments_lexer": "ipython3",
   "version": "3.11.5"
  }
 },
 "nbformat": 4,
 "nbformat_minor": 4
}
