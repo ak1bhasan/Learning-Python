{
 "cells": [
  {
   "cell_type": "code",
   "execution_count": 11,
   "metadata": {
    "execution": {
     "iopub.execute_input": "2025-09-13T12:46:04.293970Z",
     "iopub.status.busy": "2025-09-13T12:46:04.293694Z",
     "iopub.status.idle": "2025-09-13T12:46:04.300587Z",
     "shell.execute_reply": "2025-09-13T12:46:04.299509Z",
     "shell.execute_reply.started": "2025-09-13T12:46:04.293947Z"
    },
    "trusted": true
   },
   "outputs": [
    {
     "name": "stdout",
     "output_type": "stream",
     "text": [
      "3\n",
      "0.8789539304457572\n",
      "5.778126602891019\n"
     ]
    }
   ],
   "source": [
    "# Randomisation and Python List\n",
    "\n",
    "import random\n",
    "\n",
    "random_integer = random.randint(1, 10)\n",
    "print(random_integer)\n",
    "\n",
    "\n",
    "random_number_0_to_1 = random.random() * 10\n",
    "print(random_number_0_to_1)\n",
    "\n",
    "\n",
    "random_float = random.uniform(1, 10)\n",
    "print(random_float)"
   ]
  },
  {
   "cell_type": "code",
   "execution_count": 12,
   "metadata": {
    "execution": {
     "iopub.execute_input": "2025-09-13T12:46:04.303070Z",
     "iopub.status.busy": "2025-09-13T12:46:04.302666Z",
     "iopub.status.idle": "2025-09-13T12:46:04.324537Z",
     "shell.execute_reply": "2025-09-13T12:46:04.323650Z",
     "shell.execute_reply.started": "2025-09-13T12:46:04.303039Z"
    },
    "trusted": true
   },
   "outputs": [
    {
     "name": "stdout",
     "output_type": "stream",
     "text": [
      "Tails\n"
     ]
    }
   ],
   "source": [
    "import random\n",
    "\n",
    "coin_flip = random.randint(0, 1)\n",
    "\n",
    "if coin_flip == 0:\n",
    "    print(\"Heads\")\n",
    "else:\n",
    "    print(\"Tails\")\n"
   ]
  },
  {
   "cell_type": "code",
   "execution_count": 13,
   "metadata": {
    "execution": {
     "iopub.execute_input": "2025-09-13T12:46:06.189123Z",
     "iopub.status.busy": "2025-09-13T12:46:06.188841Z",
     "iopub.status.idle": "2025-09-13T12:46:06.195894Z",
     "shell.execute_reply": "2025-09-13T12:46:06.194783Z",
     "shell.execute_reply.started": "2025-09-13T12:46:06.189102Z"
    },
    "trusted": true
   },
   "outputs": [
    {
     "name": "stdout",
     "output_type": "stream",
     "text": [
      "New Jersey\n",
      "['Delaware', 'Pennsylvania', 'New Jersey', 'Georgia']\n",
      "Georgia\n",
      "['Delaware', 'London', 'New Jersey', 'Georgia']\n",
      "['Delaware', 'London', 'New Jersey', 'Georgia', 'Angelaland']\n",
      "['Delaware', 'London', 'New Jersey', 'Georgia', 'Angelaland', 'New York City', 'Sylhet']\n"
     ]
    }
   ],
   "source": [
    "# Python Lists\n",
    "\n",
    "states = [\"Delaware\", \"Pennsylvania\", \"New Jersey\", \"Georgia\"]\n",
    "print(states[2])\n",
    "print(states)\n",
    "\n",
    "print(states[-1])\n",
    "\n",
    "states[1] = \"London\"\n",
    "print(states)\n",
    "\n",
    "states.append(\"Angelaland\")\n",
    "print(states)\n",
    "\n",
    "states.extend([\"New York City\", \"Sylhet\"])\n",
    "\n",
    "print(states)\n"
   ]
  },
  {
   "cell_type": "code",
   "execution_count": 14,
   "metadata": {
    "execution": {
     "iopub.execute_input": "2025-09-13T12:46:06.197013Z",
     "iopub.status.busy": "2025-09-13T12:46:06.196777Z",
     "iopub.status.idle": "2025-09-13T12:46:06.219071Z",
     "shell.execute_reply": "2025-09-13T12:46:06.218249Z",
     "shell.execute_reply.started": "2025-09-13T12:46:06.196996Z"
    },
    "trusted": true
   },
   "outputs": [
    {
     "name": "stdout",
     "output_type": "stream",
     "text": [
      "Messi\n",
      "Yamal\n"
     ]
    }
   ],
   "source": [
    "import random\n",
    "friends = [\"Akib\", \"Hasan\", \"Jax\", \"Teller\", \"Pedri\", \"Messi\", \"Yamal\"]\n",
    "\n",
    "# 1st option\n",
    "print(random.choice(friends))\n",
    "\n",
    "# 2nd option\n",
    "random_index = random.randint(0, 7)\n",
    "print(friends[random_index])\n",
    "\n"
   ]
  },
  {
   "cell_type": "code",
   "execution_count": 15,
   "metadata": {
    "execution": {
     "iopub.execute_input": "2025-09-13T12:46:06.266176Z",
     "iopub.status.busy": "2025-09-13T12:46:06.265885Z",
     "iopub.status.idle": "2025-09-13T12:46:06.272373Z",
     "shell.execute_reply": "2025-09-13T12:46:06.271380Z",
     "shell.execute_reply.started": "2025-09-13T12:46:06.266135Z"
    },
    "trusted": true
   },
   "outputs": [
    {
     "name": "stdout",
     "output_type": "stream",
     "text": [
      "Georgia\n"
     ]
    }
   ],
   "source": [
    "states = [\"Delaware\", \"Pennsylvania\", \"New Jersey\", \"Georgia\"]\n",
    "\n",
    "\n",
    "num_of_states = len(states)\n",
    "\n",
    "print(states[num_of_states-1])\n"
   ]
  },
  {
   "cell_type": "code",
   "execution_count": 16,
   "metadata": {
    "execution": {
     "iopub.execute_input": "2025-09-13T12:46:06.274398Z",
     "iopub.status.busy": "2025-09-13T12:46:06.274075Z",
     "iopub.status.idle": "2025-09-13T12:46:06.301970Z",
     "shell.execute_reply": "2025-09-13T12:46:06.300961Z",
     "shell.execute_reply.started": "2025-09-13T12:46:06.274368Z"
    },
    "trusted": true
   },
   "outputs": [
    {
     "name": "stdout",
     "output_type": "stream",
     "text": [
      "[['Apple', 'Banana', 'Mango', 'Orange'], ['Carrot', 'Potato', 'Spinach', 'Tomato']]\n",
      "['Apple', 'Banana', 'Mango', 'Orange']\n",
      "['Carrot', 'Potato', 'Spinach', 'Tomato']\n",
      "Spinach\n",
      "Tomato\n"
     ]
    }
   ],
   "source": [
    "# Nested Lists\n",
    "# dirty_dozen = [\"Strawberries\", \"Spinach\", \"Kale\", \"Nectarines\", \"Apples\", \"Grapes\", \"Peaches\", \"Cherries\", \"Pears\", \"Tomatoes\", \"Celery\", \"Potatoes\"]\n",
    "\n",
    "fruits = [\"Apple\", \"Banana\", \"Mango\", \"Orange\"]\n",
    "\n",
    "vegetables = [\"Carrot\", \"Potato\", \"Spinach\", \"Tomato\"]\n",
    "\n",
    "dirty_dozen = [fruits, vegetables]\n",
    "print(dirty_dozen)\n",
    "print(dirty_dozen[0])\n",
    "print(dirty_dozen[1])\n",
    "print(dirty_dozen[1][2])\n",
    "print(dirty_dozen[1][3])\n",
    "\n",
    "\n"
   ]
  },
  {
   "cell_type": "code",
   "execution_count": 4,
   "metadata": {
    "execution": {
     "iopub.execute_input": "2025-09-13T12:46:19.571673Z",
     "iopub.status.busy": "2025-09-13T12:46:19.570695Z",
     "iopub.status.idle": "2025-09-13T12:46:23.075683Z",
     "shell.execute_reply": "2025-09-13T12:46:23.074574Z",
     "shell.execute_reply.started": "2025-09-13T12:46:19.571641Z"
    },
    "trusted": true
   },
   "outputs": [
    {
     "name": "stdout",
     "output_type": "stream",
     "text": [
      "\n",
      "     _______\n",
      "---'    ____)____\n",
      "           ______)\n",
      "          _______)\n",
      "         _______)\n",
      "---.__________)\n",
      "\n",
      "Computer chose:\n",
      "\n",
      "     _______\n",
      "---'    ____)____\n",
      "           ______)\n",
      "          _______)\n",
      "         _______)\n",
      "---.__________)\n",
      "\n",
      "It's draw!\n"
     ]
    }
   ],
   "source": [
    "import random\n",
    "\n",
    "rock = '''\n",
    "    _______\n",
    "---'   ____)\n",
    "      (_____)\n",
    "      (_____)\n",
    "      (____)\n",
    "---.__(___)\n",
    "\n",
    "'''\n",
    "\n",
    "paper = '''\n",
    "     _______\n",
    "---'    ____)____\n",
    "           ______)\n",
    "          _______)\n",
    "         _______)\n",
    "---.__________)\n",
    "'''\n",
    "\n",
    "scissors = '''\n",
    "    _______\n",
    "---'   ____)____\n",
    "          ______)\n",
    "       __________)\n",
    "      (____)\n",
    "---.__(___)\n",
    "'''\n",
    "\n",
    "game_images = [rock, paper, scissors]\n",
    "\n",
    "user_choice = int(input(\"What do you choose? Type 0 for Rock, 1 for Paper or 2 for Scissors.\\n\"))\n",
    "\n",
    "if 0 <= user_choice < 3:\n",
    "    print(game_images[user_choice])\n",
    "\n",
    "computer_choice = random.randint(0, 2)\n",
    "\n",
    "if 0 <= user_choice < 3:\n",
    "    print(\"Computer chose:\")\n",
    "    print(game_images[computer_choice])\n",
    "\n",
    "if user_choice >= 3 or user_choice < 0:\n",
    "    print(\"You typed an invalid number.\")\n",
    "\n",
    "elif user_choice == 0 and computer_choice == 2:\n",
    "    print(\"You wins!\")\n",
    "\n",
    "elif computer_choice == 0 and user_choice == 2:\n",
    "    print(\"You lose!\")\n",
    "\n",
    "elif computer_choice > user_choice:\n",
    "    print(\"You lose!\")\n",
    "\n",
    "elif user_choice > computer_choice:\n",
    "    print(\"You win!\")\n",
    "\n",
    "elif computer_choice == user_choice:\n",
    "    print(\"It's draw!\")\n",
    "\n"
   ]
  }
 ],
 "metadata": {
  "kaggle": {
   "accelerator": "none",
   "dataSources": [],
   "dockerImageVersionId": 31089,
   "isGpuEnabled": false,
   "isInternetEnabled": true,
   "language": "python",
   "sourceType": "notebook"
  },
  "kernelspec": {
   "display_name": "Python 3",
   "language": "python",
   "name": "python3"
  },
  "language_info": {
   "codemirror_mode": {
    "name": "ipython",
    "version": 3
   },
   "file_extension": ".py",
   "mimetype": "text/x-python",
   "name": "python",
   "nbconvert_exporter": "python",
   "pygments_lexer": "ipython3",
   "version": "3.9.13"
  }
 },
 "nbformat": 4,
 "nbformat_minor": 4
}
